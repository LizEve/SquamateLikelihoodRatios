{
 "cells": [
  {
   "cell_type": "markdown",
   "metadata": {},
   "source": [
    "Remove locus name from each taxa name, and transform from fasta to nexus file. "
   ]
  },
  {
   "cell_type": "code",
   "execution_count": 1,
   "metadata": {},
   "outputs": [],
   "source": [
    "import glob\n",
    "import os\n",
    "import sys\n",
    "from Bio import AlignIO\n",
    "from Bio import Alphabet\n",
    "from Bio import SeqIO\n",
    "from Bio.Nexus import Nexus\n",
    "\n",
    "files = glob.glob(\"*.fasta.aln-gb\")\n",
    "for f in files:\n",
    "    new_file = f.split(\".\")[0]+\".aln.trm\"\n",
    "    newrecords = []\n",
    "    for record in SeqIO.parse(open(f),'fasta'):\n",
    "        newHeader = record.id.split(\"_\")[0]+\"_\"+record.id.split(\"_\")[1]\n",
    "        record.id=newHeader\n",
    "        newrecords.append(record)\n",
    "    SeqIO.write(newrecords, new_file, 'fasta')\n",
    "\n",
    "temp_files = glob.glob(\"*.aln.trm\")\n",
    "\n",
    "for t in files:\n",
    "    nexus_file = t.split(\".\")[0]+\".aln.trm.nex\"\n",
    "    try:\n",
    "            AlignIO.convert(t, \"fasta\", nexus_file, \"nexus\", alphabet=Alphabet.generic_dna)\n",
    "    except ValueError:\n",
    "            os.system(\"rm %s\" % nexus_file)\n",
    "            print(\"%s no sequence left after trimming\" % t)\n",
    "            sys.exc_clear()\n",
    "\n"
   ]
  },
  {
   "cell_type": "code",
   "execution_count": null,
   "metadata": {},
   "outputs": [],
   "source": []
  }
 ],
 "metadata": {
  "kernelspec": {
   "display_name": "Python 2",
   "language": "python",
   "name": "python2"
  },
  "language_info": {
   "codemirror_mode": {
    "name": "ipython",
    "version": 2
   },
   "file_extension": ".py",
   "mimetype": "text/x-python",
   "name": "python",
   "nbconvert_exporter": "python",
   "pygments_lexer": "ipython2",
   "version": "2.7.15"
  }
 },
 "nbformat": 4,
 "nbformat_minor": 2
}
